{
 "cells": [
  {
   "cell_type": "code",
   "execution_count": 1,
   "metadata": {
    "collapsed": true
   },
   "outputs": [],
   "source": [
    "from utils import load_my_data\n",
    "from utils import extract_DenseSift_descriptors\n",
    "from utils import build_codebook\n",
    "from utils import input_vector_encoder\n",
    "from classifier import svm_classifier\n",
    "from keras.datasets import mnist\n",
    "import spm\n",
    "\n",
    "import numpy as np\n",
    "import argparse"
   ]
  },
  {
   "cell_type": "code",
   "execution_count": 2,
   "metadata": {
    "collapsed": true
   },
   "outputs": [],
   "source": [
    "(X_train, y_train), (X_test, y_test) = mnist.load_data()"
   ]
  },
  {
   "cell_type": "code",
   "execution_count": 3,
   "metadata": {
    "collapsed": false
   },
   "outputs": [
    {
     "name": "stdout",
     "output_type": "stream",
     "text": [
      "(60000, 28, 28)\n"
     ]
    }
   ],
   "source": [
    "print X_train.shape"
   ]
  },
  {
   "cell_type": "code",
   "execution_count": 4,
   "metadata": {
    "collapsed": false
   },
   "outputs": [
    {
     "name": "stdout",
     "output_type": "stream",
     "text": [
      "Codebook Size: 200\n",
      "Pyramid level: 2\n",
      "Dense SIFT feature extraction\n"
     ]
    }
   ],
   "source": [
    "\n",
    "\n",
    "X, y = X_train, y_train\n",
    "\n",
    "X_small = []\n",
    "y_small = []\n",
    "for digit in range(0,10):\n",
    "    x_tmp = [X[i] for i in range(60000) if y[i] == digit]\n",
    "    y_tmp = [y[i] for i in range(60000) if y[i] == digit]\n",
    "    X_small = X_small + x_tmp[:100]\n",
    "    y_small = y_small + y_tmp[:100]\n",
    "\n",
    "X = X_small\n",
    "y = y_small\n",
    "\n",
    "print \"Codebook Size: {:d}\".format(spm.VOC_SIZE)\n",
    "print \"Pyramid level: {:d}\".format(spm.PYRAMID_LEVEL)\n",
    "print \"Dense SIFT feature extraction\""
   ]
  },
  {
   "cell_type": "code",
   "execution_count": 5,
   "metadata": {
    "collapsed": false
   },
   "outputs": [],
   "source": [
    "x_feature = [extract_DenseSift_descriptors(img) for img in X]\n",
    "x_kp, x_des = zip(*x_feature)\n",
    "xt_feature = [extract_DenseSift_descriptors(img) for img in X_test]\n",
    "xt_kp, xt_des = zip(*xt_feature)"
   ]
  },
  {
   "cell_type": "code",
   "execution_count": null,
   "metadata": {
    "collapsed": false
   },
   "outputs": [],
   "source": [
    "%%time\n",
    "## SIFT based matching only for experimentation\n",
    "trx = np.array([np.array(a).flatten() for a in x_des])\n",
    "tex = np.array([np.array(a).flatten() for a in xt_des])\n",
    "svm_classifier(trx, y, tex, y_test)"
   ]
  },
  {
   "cell_type": "code",
   "execution_count": null,
   "metadata": {
    "collapsed": false
   },
   "outputs": [],
   "source": [
    "%%time\n",
    "print \"Building the codebook, it will take some time\"\n",
    "codebook = build_codebook(x_des, spm.VOC_SIZE)\n",
    "#import cPickle\n",
    "#with open('./data/codebook_spm.pkl','w') as f:\n",
    "#    cPickle.dump(codebook, f)"
   ]
  },
  {
   "cell_type": "code",
   "execution_count": null,
   "metadata": {
    "collapsed": false
   },
   "outputs": [],
   "source": [
    "%%time\n",
    "\n",
    "print \"Spatial Pyramid Matching encoding\"\n",
    "X = [spm.spatial_pyramid_matching(X[i],\n",
    "                              x_des[i],\n",
    "                              codebook,\n",
    "                              level=spm.PYRAMID_LEVEL)\n",
    "                              for i in xrange(len(x_des))]"
   ]
  },
  {
   "cell_type": "code",
   "execution_count": null,
   "metadata": {
    "collapsed": false
   },
   "outputs": [],
   "source": [
    "%%time\n",
    "X_test = [spm.spatial_pyramid_matching(X_test[i],\n",
    "                              xt_des[i],\n",
    "                              codebook,\n",
    "                              level=spm.PYRAMID_LEVEL)\n",
    "                              for i in xrange(len(xt_des))]"
   ]
  },
  {
   "cell_type": "code",
   "execution_count": null,
   "metadata": {
    "collapsed": false
   },
   "outputs": [],
   "source": [
    "%%time\n",
    "X = np.asarray(X)\n",
    "X_test = np.asarray(X_test)\n",
    "svm_classifier(X, y, X_test, y_test)"
   ]
  }
 ],
 "metadata": {
  "kernelspec": {
   "display_name": "Python 2",
   "language": "python",
   "name": "python2"
  },
  "language_info": {
   "codemirror_mode": {
    "name": "ipython",
    "version": 2
   },
   "file_extension": ".py",
   "mimetype": "text/x-python",
   "name": "python",
   "nbconvert_exporter": "python",
   "pygments_lexer": "ipython2",
   "version": "2.7.11"
  }
 },
 "nbformat": 4,
 "nbformat_minor": 0
}
